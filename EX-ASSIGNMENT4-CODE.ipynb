{
 "cells": [
  {
   "cell_type": "code",
   "execution_count": 66,
   "metadata": {},
   "outputs": [],
   "source": [
    "import numpy as np\n",
    "import matplotlib.pyplot as plt\n",
    "import scipy.sparse as sp\n",
    "from scipy.sparse import linalg as sla\n",
    "from time import time\n",
    "import math\n",
    "import seaborn as sns\n",
    "from scipy.optimize import curve_fit\n"
   ]
  },
  {
   "cell_type": "code",
   "execution_count": 2,
   "metadata": {},
   "outputs": [],
   "source": [
    "class Hamiltonian1D:\n",
    "\n",
    "    def __init__(self, size, x1, x2, hi):\n",
    "        \"\"\"\n",
    "        Initialize a 1D quantum harmonic oscillator Hamiltonian.\n",
    "        The hamiltonian is multiplied by 2.\n",
    "\n",
    "        Parameters:\n",
    "        - size (int): The size of the Hamiltonian matrix.\n",
    "        - x1, x2 (float): The range of the spatial coordinates.\n",
    "\n",
    "        Attributes:\n",
    "        - size (int): The size of the Hamiltonian matrix.\n",
    "        - grid_space (numpy.ndarray): The spatial grid-space.\n",
    "        - matrix (scipy.sparse.csc_matrix): The Hamiltonian matrix.\n",
    "        \"\"\"\n",
    "        # @Property: size\n",
    "        self.size = size\n",
    "        \n",
    "        # Physical constants\n",
    "        omega = 1.0\n",
    "        hbar  = 1.0\n",
    "        mass  = 1.0\n",
    "\n",
    "        # Space points\n",
    "        grid_space = np.linspace(x1, x2, size, dtype=float)\n",
    "        dx = grid_space[1] - grid_space[0]\n",
    "\n",
    "        # @Property: grid-space\n",
    "        self.grid_space = grid_space\n",
    "\n",
    "        # Nonzero indexes\n",
    "        row_indices = np.concatenate([np.arange(size), np.arange(1, size), np.arange(size - 1)])\n",
    "        col_indices = np.concatenate([np.arange(size), np.arange(size - 1), np.arange(1, size)])\n",
    "\n",
    "        # Nonzero elements kinetic part\n",
    "        nonzero_elems = np.zeros((3 * size - 2,), dtype=float)\n",
    "        nonzero_elems[:size] = 2.0 / dx**2\n",
    "        nonzero_elems[size:2*size-1] = -1.0 / dx**2\n",
    "        nonzero_elems[2*size-1:] = -1.0 / dx**2\n",
    "\n",
    "        # Potential Energy\n",
    "        V = omega**2 * grid_space**2\n",
    "        nonzero_elems[:size]+= V\n",
    "        \n",
    "        # Sparse matrix Hamiltonian\n",
    "        matrix = sp.csc_matrix((nonzero_elems, (row_indices, col_indices)), shape=(size, size))\n",
    "\n",
    "        # @Property: matrix\n",
    "        self.matrix = matrix\n",
    "    \n",
    "\n",
    "\n",
    "    def firstKlevels(self,k):\n",
    "        \"\"\"\n",
    "        Compute the first k eigenvalues and eigenvectors of the Hamiltonian.\n",
    "\n",
    "        Parameters:\n",
    "        - k (int): The number of eigenvalues and eigenvectors to compute.\n",
    "\n",
    "        Returns:\n",
    "        - engs (numpy.ndarray): Array of k eigenvalues.\n",
    "        - stts (numpy.ndarray): Array of k eigenvectors.\n",
    "        \"\"\"\n",
    "        # First k eigenvalues and eigenvetors\n",
    "        engs, stts = sla.eigsh(self.matrix,k,which='SM')\n",
    "\n",
    "        # Normalization of the eigenvectors\n",
    "        normalization_factors = np.sqrt(np.trapz(np.abs(stts)**2, self.grid_space, axis=0))\n",
    "        stts /= normalization_factors\n",
    "        return engs, stts\n",
    "    "
   ]
  },
  {
   "cell_type": "code",
   "execution_count": 3,
   "metadata": {},
   "outputs": [],
   "source": [
    "class Hamiltonian1D_1:\n",
    "    def __init__(self, size, x1, x2, order=2):\n",
    "        \"\"\"\n",
    "        Initialize a 1D quantum harmonic oscillator Hamiltonian.\n",
    "\n",
    "        Parameters:\n",
    "        - size (int): The size of the Hamiltonian matrix.\n",
    "        - x1, x2 (float): The range of the spatial coordinates.\n",
    "        - order (int): The order of accuracy for the kinetic part (default is 2).\n",
    "\n",
    "        Attributes:\n",
    "        - size (int): The size of the Hamiltonian matrix.\n",
    "        - grid_space (numpy.ndarray): The spatial grid-space.\n",
    "        - matrix (scipy.sparse.csc_matrix): The Hamiltonian matrix.\n",
    "        \"\"\"\n",
    "        # @Property: size\n",
    "        self.size = size\n",
    "\n",
    "        # Physical constants\n",
    "        omega = 1.0\n",
    "\n",
    "        # Space points\n",
    "        grid_space = np.linspace(x1, x2, size, dtype=float)\n",
    "        dx = grid_space[1] - grid_space[0]\n",
    "\n",
    "        # @Property: grid-space\n",
    "        self.grid_space = grid_space\n",
    "\n",
    "        # Construct kinetic part\n",
    "        kinetic_elems = self.construct_kinetic_elements(order, dx)\n",
    "\n",
    "        # Construct potential part\n",
    "        potential_elems = self.construct_potential_elements(omega, grid_space)\n",
    "\n",
    "        # Combine kinetic and potential parts\n",
    "        kinetic_elems[:size] += potential_elems\n",
    "        \n",
    "        # Indexes of non zero element\n",
    "        if order == 2:\n",
    "\n",
    "            row_indices = np.concatenate([np.arange(size), np.arange(1, size), np.arange(size - 1)])\n",
    "            col_indices = np.concatenate([np.arange(size), np.arange(size - 1), np.arange(1, size)])\n",
    "        \n",
    "        elif order == 4:\n",
    "            \n",
    "            row_indices = np.concatenate([np.arange(size), np.arange(1, size), np.arange(size - 1),\n",
    "                                          np.arange(2,size), np.arange(size -2)])\n",
    "            \n",
    "            col_indices = np.concatenate([np.arange(size), np.arange(size - 1), np.arange(1, size),\n",
    "                                          np.arange(size-2),np.arange(2,size)])\n",
    "        else: \n",
    "            raise ValueError(\"Unsupported order of accuracy. Supported orders: 2, 4\")\n",
    "        \n",
    "        # Sparse matrix Hamiltonian\n",
    "        matrix = sp.csc_matrix((kinetic_elems, (row_indices, col_indices)), shape=(size, size))\n",
    "\n",
    "        # @Property: matrix\n",
    "        self.matrix = matrix\n",
    "\n",
    "    def construct_kinetic_elements(self, order, dx):\n",
    "        \"\"\"\n",
    "        Construct the kinetic part of the Hamiltonian.\n",
    "\n",
    "        Parameters:\n",
    "        - order (int): The order of accuracy.\n",
    "        - dx (float): The spatial grid spacing.\n",
    "\n",
    "        Returns:\n",
    "        - kinetic_elems (numpy.ndarray): Array of kinetic elements.\n",
    "        \"\"\"\n",
    "\n",
    "        if order == 2:\n",
    "            kinetic_elems = np.zeros((3 * self.size - 2,), dtype=float)\n",
    "\n",
    "            kinetic_elems[:self.size] = 2.0 / dx**2\n",
    "            kinetic_elems[self.size:2*self.size-1] = -1.0 / dx**2\n",
    "            kinetic_elems[2*self.size-1:] = -1.0 / dx**2\n",
    "        \n",
    "        elif order == 4:\n",
    "    \n",
    "            kinetic_elems = np.zeros((5 * self.size - 6,), dtype=float)\n",
    "            \n",
    "            kinetic_elems[:self.size] = 2.5 / dx**2                     # Spacing 0\n",
    "            kinetic_elems[self.size:2*self.size-1] = -(4/3)/ dx**2      # Spacing -1\n",
    "            kinetic_elems[2*self.size-1:3*self.size-2] = -(4/3)/ dx**2  # Spacing +1  \n",
    "            kinetic_elems[3*self.size-2:4*self.size-4] = (1/12) / dx**2 # Sapcing -2\n",
    "            kinetic_elems[4*self.size-4:] = (1/12)/ dx**2               # Sapcing +2  \n",
    "\n",
    "        else:\n",
    "            raise ValueError(\"Unsupported order of accuracy. Supported orders: 2, 4\")\n",
    "\n",
    "        return kinetic_elems\n",
    "\n",
    "    def construct_potential_elements(self, omega, grid_space):\n",
    "        \"\"\"\n",
    "        Construct the potential part of the Hamiltonian.\n",
    "\n",
    "        Parameters:\n",
    "        - omega (float): The angular frequency of the harmonic oscillator.\n",
    "        - grid_space (numpy.ndarray): The spatial coordinates.\n",
    "\n",
    "        Returns:\n",
    "        - potential_elems (numpy.ndarray): Array of potential elements.\n",
    "        \"\"\"\n",
    "        potential_elems = omega**2 * grid_space**2\n",
    "        return potential_elems\n",
    "\n",
    "    def firstKlevels(self, k):\n",
    "        \"\"\"\n",
    "        Compute the first k eigenvalues and eigenvectors of the Hamiltonian.\n",
    "\n",
    "        Parameters:\n",
    "        - k (int): The number of eigenvalues and eigenvectors to compute.\n",
    "\n",
    "        Returns:\n",
    "        - engs (numpy.ndarray): Array of k eigenvalues.\n",
    "        - stts (numpy.ndarray): Array of k eigenvectors.\n",
    "        \"\"\"\n",
    "        # First k eigenvalues and eigenvectors\n",
    "        engs, stts = sla.eigsh(self.matrix, k, which='SM')\n",
    "\n",
    "        # Normalization of the eigenvectors\n",
    "        normalization_factors = np.sqrt(np.trapz(np.abs(stts)**2, self.grid_space, axis=0))\n",
    "        stts /= normalization_factors\n",
    "        return engs, stts"
   ]
  },
  {
   "cell_type": "code",
   "execution_count": 4,
   "metadata": {},
   "outputs": [],
   "source": [
    "# Theoretical results: eigenvalues and eigenvectors\n",
    "\n",
    "def theoretical_eigenvectors(x, n):\n",
    "    norm = (-1.0)**n / np.sqrt(2**n * np.math.factorial(n) * np.sqrt(np.pi))\n",
    "    return norm * np.exp(-x**2 / 2) * np.polynomial.hermite.hermval(x, np.eye(n + 1)[-1])\n",
    "\n",
    "def th_eignvls(k):\n",
    "    return np.arange(0,2*k,2,dtype=float)+1.0"
   ]
  },
  {
   "cell_type": "code",
   "execution_count": 54,
   "metadata": {},
   "outputs": [],
   "source": [
    "Xmin=-10\n",
    "Xmax= 10\n",
    "N=1000\n",
    "K=3\n",
    "\n",
    "A=Hamiltonian1D_1(N,Xmin,Xmax,order=4)\n",
    "pippo=A.firstKlevels(K)"
   ]
  },
  {
   "cell_type": "code",
   "execution_count": 55,
   "metadata": {},
   "outputs": [],
   "source": [
    "x=np.linspace(Xmin,Xmax,50)\n",
    "ciccio=theoretical_eigenvectors(x,1)\n",
    "topolino=theoretical_eigenvectors(x,0)\n",
    "pluto=theoretical_eigenvectors(x,2)"
   ]
  },
  {
   "cell_type": "code",
   "execution_count": 61,
   "metadata": {},
   "outputs": [
    {
     "data": {
      "image/png": "[encoded data removed]",
      "text/plain": [
       "<Figure size 576x432 with 1 Axes>"
      ]
     },
     "metadata": {
      "needs_background": "light"
     },
     "output_type": "display_data"
    }
   ],
   "source": [
    "fig, ax =plt.subplots(figsize=(8,6))\n",
    "ax.plot(A.grid_space,-pippo[1][:,1], label=\"Numerical solution\",color='orangered')\n",
    "ax.plot(x,ciccio,\"v\", label=\"Theoretical solution\",color='black',alpha=0.7)\n",
    "ax.grid(True,linestyle='--')\n",
    "ax.set_xlabel('$x$',fontsize=15,fontweight='bold')\n",
    "ax.set_ylabel('$\\Psi$(x)',fontsize=15,fontweight='bold')\n",
    "ax.set_facecolor('ivory')\n",
    "ax.legend(fontsize=12)\n",
    "fig.savefig('1D_second')"
   ]
  },
  {
   "cell_type": "code",
   "execution_count": 60,
   "metadata": {},
   "outputs": [
    {
     "data": {
      "image/png": "[encoded data removed]",
      "text/plain": [
       "<Figure size 576x432 with 1 Axes>"
      ]
     },
     "metadata": {
      "needs_background": "light"
     },
     "output_type": "display_data"
    }
   ],
   "source": [
    "fig, ax =plt.subplots(figsize=(8,6))\n",
    "ax.plot(A.grid_space,-pippo[1][:,0], label=\"Numerical solution\",color='orangered')\n",
    "ax.plot(x,topolino,\"v\", label=\"Theoretical solution\",color='black',alpha=0.7)\n",
    "ax.grid(True,linestyle='--')\n",
    "ax.set_xlabel('$x$',fontsize=15,fontweight='bold')\n",
    "ax.set_ylabel('$\\Psi$(x)',fontsize=15,fontweight='bold')\n",
    "ax.set_facecolor('ivory')\n",
    "ax.legend(fontsize=12)\n",
    "fig.savefig('1D_first')"
   ]
  },
  {
   "cell_type": "code",
   "execution_count": 59,
   "metadata": {},
   "outputs": [
    {
     "data": {
      "image/png": "[encoded data removed]",
      "text/plain": [
       "<Figure size 576x432 with 1 Axes>"
      ]
     },
     "metadata": {
      "needs_background": "light"
     },
     "output_type": "display_data"
    }
   ],
   "source": [
    "fig, ax =plt.subplots(figsize=(8,6))\n",
    "ax.plot(A.grid_space,-pippo[1][:,2], label=\"Numerical solution\",color='orangered')\n",
    "ax.plot(x,pluto,\"v\", label=\"Theoretical solution\",color='black',alpha=0.7)\n",
    "ax.grid(True,linestyle='--')\n",
    "ax.set_xlabel('$x$',fontsize=15,fontweight='bold')\n",
    "ax.set_ylabel('$\\Psi$(x)',fontsize=15,fontweight='bold')\n",
    "ax.set_facecolor('ivory')\n",
    "ax.legend(fontsize=12)\n",
    "fig.savefig('1D_third')"
   ]
  },
  {
   "cell_type": "markdown",
   "metadata": {},
   "source": [
    "How does it scale?"
   ]
  },
  {
   "cell_type": "code",
   "execution_count": 73,
   "metadata": {},
   "outputs": [],
   "source": [
    "Xmin=-10\n",
    "Xmax= 10\n",
    "scales=np.array([5,20,100,500,1000,5000,10000])\n",
    "timings = np.zeros((len(scales)))\n",
    "\n",
    "K=3\n",
    "for idx, dim in enumerate(scales):\n",
    "    tic = time()\n",
    "    A=Hamiltonian1D_1(dim,Xmin,Xmax,order=4)\n",
    "    pippo=A.firstKlevels(K)\n",
    "    timings[idx] = time() - tic\n"
   ]
  },
  {
   "cell_type": "code",
   "execution_count": 76,
   "metadata": {},
   "outputs": [],
   "source": [
    "def curve(x, a, alpha):\n",
    "    return a*(x**alpha)\n",
    "# Fit the curve to each scatter plot\n",
    "mat_params, _ = curve_fit(curve, scales, timings,maxfev=10000)\n",
    "x_range=np.linspace(0,10000,1000)\n",
    "mat_smooth = curve(x_range, *mat_params)\n"
   ]
  },
  {
   "cell_type": "code",
   "execution_count": 77,
   "metadata": {},
   "outputs": [
    {
     "data": {
      "image/png": "[encoded data removed]",
      "text/plain": [
       "<Figure size 576x432 with 1 Axes>"
      ]
     },
     "metadata": {
      "needs_background": "light"
     },
     "output_type": "display_data"
    }
   ],
   "source": [
    "fig, ax =plt.subplots(figsize=(8,6))\n",
    "ax.plot(x_range,mat_smooth, label='Fit')\n",
    "ax.plot(scales,timings,\"v\",color='black',alpha=0.7)\n",
    "ax.grid(True,linestyle='--')\n",
    "ax.set_xlabel('$N$',fontsize=15,fontweight='bold')\n",
    "ax.set_ylabel('Time [seconds]',fontsize=15,fontweight='bold')\n",
    "ax.set_facecolor('ivory')\n",
    "ax.legend(fontsize=12)\n",
    "fig.savefig('Time_scales')"
   ]
  },
  {
   "cell_type": "code",
   "execution_count": 78,
   "metadata": {},
   "outputs": [
    {
     "data": {
      "text/plain": [
       "1.4377043410292225e-08"
      ]
     },
     "execution_count": 78,
     "metadata": {},
     "output_type": "execute_result"
    }
   ],
   "source": [
    "# a\n",
    "mat_params[0]"
   ]
  },
  {
   "cell_type": "code",
   "execution_count": 81,
   "metadata": {},
   "outputs": [
    {
     "data": {
      "text/plain": [
       "2.428526071246942"
      ]
     },
     "execution_count": 81,
     "metadata": {},
     "output_type": "execute_result"
    }
   ],
   "source": [
    "#alpha\n",
    "mat_params[1]"
   ]
  },
  {
   "cell_type": "markdown",
   "metadata": {},
   "source": [
    "Stability"
   ]
  },
  {
   "cell_type": "code",
   "execution_count": 82,
   "metadata": {},
   "outputs": [],
   "source": [
    "yes =  \"\\033[1;32m\" + u\"\\N{check mark}\" #+ \"\\033[1;30m\"\n",
    "no =  \"\\033[1;31m\" + u\"\\N{ballot x}\" #+ \"\\033[1;30m\""
   ]
  },
  {
   "cell_type": "markdown",
   "metadata": {},
   "source": [
    "Stability order 2"
   ]
  },
  {
   "cell_type": "code",
   "execution_count": 93,
   "metadata": {},
   "outputs": [
    {
     "name": "stdout",
     "output_type": "stream",
     "text": [
      "0 \u001b[1;32m✓\n",
      "1 \u001b[1;32m✓\n",
      "2 \u001b[1;32m✓\n",
      "3 \u001b[1;32m✓\n",
      "4 \u001b[1;32m✓\n",
      "5 \u001b[1;32m✓\n",
      "6 \u001b[1;32m✓\n",
      "7 \u001b[1;32m✓\n",
      "8 \u001b[1;32m✓\n",
      "9 \u001b[1;32m✓\n",
      "10 \u001b[1;32m✓\n",
      "11 \u001b[1;32m✓\n",
      "12 \u001b[1;32m✓\n",
      "13 \u001b[1;32m✓\n",
      "14 \u001b[1;32m✓\n",
      "15 \u001b[1;32m✓\n",
      "16 \u001b[1;32m✓\n",
      "17 \u001b[1;32m✓\n",
      "18 \u001b[1;32m✓\n",
      "19 \u001b[1;32m✓\n",
      "20 \u001b[1;32m✓\n",
      "21 \u001b[1;32m✓\n",
      "22 \u001b[1;32m✓\n",
      "23 \u001b[1;32m✓\n",
      "24 \u001b[1;32m✓\n",
      "25 \u001b[1;32m✓\n",
      "26 \u001b[1;32m✓\n",
      "27 \u001b[1;32m✓\n",
      "28 \u001b[1;32m✓\n",
      "29 \u001b[1;32m✓\n",
      "30 \u001b[1;32m✓\n",
      "31 \u001b[1;32m✓\n",
      "32 \u001b[1;32m✓\n",
      "33 \u001b[1;32m✓\n",
      "34 \u001b[1;32m✓\n",
      "35 \u001b[1;32m✓\n",
      "36 \u001b[1;32m✓\n",
      "37 \u001b[1;32m✓\n",
      "38 \u001b[1;32m✓\n",
      "39 \u001b[1;32m✓\n",
      "40 \u001b[1;32m✓\n",
      "41 \u001b[1;32m✓\n",
      "42 \u001b[1;32m✓\n",
      "43 \u001b[1;32m✓\n",
      "44 \u001b[1;32m✓\n",
      "45 \u001b[1;32m✓\n",
      "46 \u001b[1;32m✓\n",
      "47 \u001b[1;32m✓\n",
      "48 \u001b[1;32m✓\n",
      "49 \u001b[1;32m✓\n",
      "50 \u001b[1;32m✓\n",
      "51 \u001b[1;32m✓\n",
      "52 \u001b[1;32m✓\n",
      "53 \u001b[1;32m✓\n",
      "54 \u001b[1;32m✓\n",
      "55 \u001b[1;32m✓\n",
      "56 \u001b[1;32m✓\n",
      "57 \u001b[1;32m✓\n",
      "58 \u001b[1;32m✓\n",
      "59 \u001b[1;32m✓\n",
      "60 \u001b[1;32m✓\n",
      "61 \u001b[1;32m✓\n",
      "62 \u001b[1;32m✓\n",
      "63 \u001b[1;32m✓\n",
      "64 \u001b[1;32m✓\n",
      "65 \u001b[1;32m✓\n",
      "66 \u001b[1;32m✓\n",
      "67 \u001b[1;32m✓\n",
      "68 \u001b[1;32m✓\n",
      "69 \u001b[1;32m✓\n",
      "70 \u001b[1;32m✓\n",
      "71 \u001b[1;32m✓\n",
      "72 \u001b[1;32m✓\n",
      "73 \u001b[1;32m✓\n",
      "74 \u001b[1;32m✓\n",
      "75 \u001b[1;32m✓\n",
      "76 \u001b[1;32m✓\n",
      "77 \u001b[1;32m✓\n",
      "78 \u001b[1;32m✓\n",
      "79 \u001b[1;32m✓\n",
      "80 \u001b[1;32m✓\n",
      "81 \u001b[1;32m✓\n",
      "82 \u001b[1;32m✓\n",
      "83 \u001b[1;32m✓\n",
      "84 \u001b[1;32m✓\n",
      "85 \u001b[1;32m✓\n",
      "86 \u001b[1;32m✓\n",
      "87 \u001b[1;32m✓\n",
      "88 \u001b[1;32m✓\n",
      "89 \u001b[1;32m✓\n",
      "90 \u001b[1;32m✓\n",
      "91 \u001b[1;32m✓\n",
      "92 \u001b[1;32m✓\n",
      "93 \u001b[1;32m✓\n",
      "94 \u001b[1;32m✓\n",
      "95 \u001b[1;32m✓\n",
      "96 \u001b[1;32m✓\n",
      "97 \u001b[1;32m✓\n",
      "98 \u001b[1;32m✓\n",
      "99 \u001b[1;32m✓\n"
     ]
    }
   ],
   "source": [
    "Xmin=-10\n",
    "Xmax= 10\n",
    "K=10\n",
    "N=1000\n",
    "iterations=100\n",
    "\n",
    "energies_2=np.zeros((iterations,K),dtype=float)\n",
    "for i in range(iterations):\n",
    "    A=Hamiltonian1D_1(N,Xmin,Xmax,order=2)\n",
    "    pippo=A.firstKlevels(K)\n",
    "    energies_2[i]=pippo[0]\n",
    "    print(f'{i}', yes)\n"
   ]
  },
  {
   "cell_type": "markdown",
   "metadata": {},
   "source": [
    "Stability order 4"
   ]
  },
  {
   "cell_type": "code",
   "execution_count": 94,
   "metadata": {},
   "outputs": [
    {
     "name": "stdout",
     "output_type": "stream",
     "text": [
      "0 \u001b[1;32m✓\n",
      "1 \u001b[1;32m✓\n",
      "2 \u001b[1;32m✓\n",
      "3 \u001b[1;32m✓\n",
      "4 \u001b[1;32m✓\n",
      "5 \u001b[1;32m✓\n",
      "6 \u001b[1;32m✓\n",
      "7 \u001b[1;32m✓\n",
      "8 \u001b[1;32m✓\n",
      "9 \u001b[1;32m✓\n",
      "10 \u001b[1;32m✓\n",
      "11 \u001b[1;32m✓\n",
      "12 \u001b[1;32m✓\n",
      "13 \u001b[1;32m✓\n",
      "14 \u001b[1;32m✓\n",
      "15 \u001b[1;32m✓\n",
      "16 \u001b[1;32m✓\n",
      "17 \u001b[1;32m✓\n",
      "18 \u001b[1;32m✓\n",
      "19 \u001b[1;32m✓\n",
      "20 \u001b[1;32m✓\n",
      "21 \u001b[1;32m✓\n",
      "22 \u001b[1;32m✓\n",
      "23 \u001b[1;32m✓\n",
      "24 \u001b[1;32m✓\n",
      "25 \u001b[1;32m✓\n",
      "26 \u001b[1;32m✓\n",
      "27 \u001b[1;32m✓\n",
      "28 \u001b[1;32m✓\n",
      "29 \u001b[1;32m✓\n",
      "30 \u001b[1;32m✓\n",
      "31 \u001b[1;32m✓\n",
      "32 \u001b[1;32m✓\n",
      "33 \u001b[1;32m✓\n",
      "34 \u001b[1;32m✓\n",
      "35 \u001b[1;32m✓\n",
      "36 \u001b[1;32m✓\n",
      "37 \u001b[1;32m✓\n",
      "38 \u001b[1;32m✓\n",
      "39 \u001b[1;32m✓\n",
      "40 \u001b[1;32m✓\n",
      "41 \u001b[1;32m✓\n",
      "42 \u001b[1;32m✓\n",
      "43 \u001b[1;32m✓\n",
      "44 \u001b[1;32m✓\n",
      "45 \u001b[1;32m✓\n",
      "46 \u001b[1;32m✓\n",
      "47 \u001b[1;32m✓\n",
      "48 \u001b[1;32m✓\n",
      "49 \u001b[1;32m✓\n",
      "50 \u001b[1;32m✓\n",
      "51 \u001b[1;32m✓\n",
      "52 \u001b[1;32m✓\n",
      "53 \u001b[1;32m✓\n",
      "54 \u001b[1;32m✓\n",
      "55 \u001b[1;32m✓\n",
      "56 \u001b[1;32m✓\n",
      "57 \u001b[1;32m✓\n",
      "58 \u001b[1;32m✓\n",
      "59 \u001b[1;32m✓\n",
      "60 \u001b[1;32m✓\n",
      "61 \u001b[1;32m✓\n",
      "62 \u001b[1;32m✓\n",
      "63 \u001b[1;32m✓\n",
      "64 \u001b[1;32m✓\n",
      "65 \u001b[1;32m✓\n",
      "66 \u001b[1;32m✓\n",
      "67 \u001b[1;32m✓\n",
      "68 \u001b[1;32m✓\n",
      "69 \u001b[1;32m✓\n",
      "70 \u001b[1;32m✓\n",
      "71 \u001b[1;32m✓\n",
      "72 \u001b[1;32m✓\n",
      "73 \u001b[1;32m✓\n",
      "74 \u001b[1;32m✓\n",
      "75 \u001b[1;32m✓\n",
      "76 \u001b[1;32m✓\n",
      "77 \u001b[1;32m✓\n",
      "78 \u001b[1;32m✓\n",
      "79 \u001b[1;32m✓\n",
      "80 \u001b[1;32m✓\n",
      "81 \u001b[1;32m✓\n",
      "82 \u001b[1;32m✓\n",
      "83 \u001b[1;32m✓\n",
      "84 \u001b[1;32m✓\n",
      "85 \u001b[1;32m✓\n",
      "86 \u001b[1;32m✓\n",
      "87 \u001b[1;32m✓\n",
      "88 \u001b[1;32m✓\n",
      "89 \u001b[1;32m✓\n",
      "90 \u001b[1;32m✓\n",
      "91 \u001b[1;32m✓\n",
      "92 \u001b[1;32m✓\n",
      "93 \u001b[1;32m✓\n",
      "94 \u001b[1;32m✓\n",
      "95 \u001b[1;32m✓\n",
      "96 \u001b[1;32m✓\n",
      "97 \u001b[1;32m✓\n",
      "98 \u001b[1;32m✓\n",
      "99 \u001b[1;32m✓\n"
     ]
    }
   ],
   "source": [
    "energies_4=np.zeros((iterations,K), dtype=float)\n",
    "\n",
    "for i in range(iterations):\n",
    "    A=Hamiltonian1D_1(N,Xmin,Xmax,order=4)\n",
    "    pippo=A.firstKlevels(K)\n",
    "    energies_4[i]=pippo[0]\n",
    "    print(f'{i}', yes)\n",
    "\n"
   ]
  },
  {
   "cell_type": "code",
   "execution_count": 97,
   "metadata": {},
   "outputs": [
    {
     "name": "stdout",
     "output_type": "stream",
     "text": [
      "The std is : \n",
      "3.1034174879938204e-13\n",
      "4.0134198406520543e-13\n",
      "3.3622958085347346e-13\n",
      "The mean is : \n",
      "0.9999749492973063\n",
      "2.9998747439762514\n",
      "4.999674327057075\n"
     ]
    }
   ],
   "source": [
    "print('The std is : ')\n",
    "for i in range(3):\n",
    "\n",
    "    print(np.std(energies_2[:,i], dtype=float))\n",
    "\n",
    "print('The mean is : ')\n",
    "for i in range(3):\n",
    "\n",
    "    print(np.mean(energies_2[:,i], dtype=float))\n",
    "    "
   ]
  },
  {
   "cell_type": "code",
   "execution_count": 98,
   "metadata": {},
   "outputs": [
    {
     "name": "stdout",
     "output_type": "stream",
     "text": [
      "The std is : \n",
      "4.3176475323127245e-13\n",
      "4.3873044997483354e-13\n",
      "3.9732805299924393e-13\n",
      "The mean is : \n",
      "0.999999996654148\n",
      "2.9999999765773695\n",
      "4.999999916350207\n"
     ]
    }
   ],
   "source": [
    "print('The std is : ')\n",
    "for i in range(3):\n",
    "\n",
    "    print(np.std(energies_4[:,i], dtype=float))\n",
    "\n",
    "print('The mean is : ')\n",
    "for i in range(3):\n",
    "\n",
    "    print(np.mean(energies_4[:,i], dtype=float))"
   ]
  },
  {
   "cell_type": "code",
   "execution_count": null,
   "metadata": {},
   "outputs": [],
   "source": []
  },
  {
   "cell_type": "code",
   "execution_count": null,
   "metadata": {},
   "outputs": [],
   "source": []
  },
  {
   "cell_type": "code",
   "execution_count": null,
   "metadata": {},
   "outputs": [],
   "source": []
  },
  {
   "cell_type": "code",
   "execution_count": 87,
   "metadata": {},
   "outputs": [],
   "source": []
  },
  {
   "cell_type": "code",
   "execution_count": null,
   "metadata": {},
   "outputs": [],
   "source": []
  }
 ],
 "metadata": {
  "kernelspec": {
   "display_name": "base",
   "language": "python",
   "name": "python3"
  },
  "language_info": {
   "codemirror_mode": {
    "name": "ipython",
    "version": 3
   },
   "file_extension": ".py",
   "mimetype": "text/x-python",
   "name": "python",
   "nbconvert_exporter": "python",
   "pygments_lexer": "ipython3",
   "version": "3.9.12"
  }
 },
 "nbformat": 4,
 "nbformat_minor": 2
}
